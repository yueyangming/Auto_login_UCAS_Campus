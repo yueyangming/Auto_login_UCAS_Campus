{
 "cells": [
  {
   "cell_type": "code",
   "execution_count": 1,
   "metadata": {
    "collapsed": true
   },
   "outputs": [],
   "source": [
    "import requests"
   ]
  },
  {
   "cell_type": "code",
   "execution_count": 3,
   "metadata": {
    "collapsed": true
   },
   "outputs": [],
   "source": [
    "URL = 'http://210.77.16.21/eportal/InterFace.do?method=login'"
   ]
  },
  {
   "cell_type": "code",
   "execution_count": null,
   "metadata": {
    "collapsed": true
   },
   "outputs": [],
   "source": []
  },
  {
   "cell_type": "markdown",
   "metadata": {},
   "source": [
    "userId=201528011203106&password=ucas&service=&queryString=wlanuserip%253D0bc386d9e643d188b011a0d00c9b5c40%2526wlanacname%253D5fcbc245a7ffdfa4%2526ssid%253D%2526nasip%253D2c0716b583c8ac3cbd7567a84cfde5a8%2526mac%253D53ba540bde596b811a6d5617a86fa028%2526t%253Dwireless-v2%2526url%253D2c0328164651e2b4f13b933ddf36628bea622dedcc302b30&operatorPwd=&validcode="
   ]
  },
  {
   "cell_type": "code",
   "execution_count": 79,
   "metadata": {
    "collapsed": true
   },
   "outputs": [],
   "source": [
    "import requests\n",
    "from urllib.parse import quote"
   ]
  },
  {
   "cell_type": "code",
   "execution_count": 80,
   "metadata": {
    "collapsed": false
   },
   "outputs": [],
   "source": [
    "# Make fake headers\n",
    "\n",
    "headers = {'Accept': 'text/html,application/xhtml+xml,application/xml;q=0.9,image/webp,*/*;q=0.8',\n",
    "           'Accept-Encoding': 'gzip, deflate, sdch',\n",
    "           'Accept-Language': 'zh-CN,zh;q=0.8',\n",
    "           'User-Agent': 'Mozilla/5.0 (Windows NT 10.0; Win64; x64) AppleWebKit/537.36 (KHTML, like Gecko) Chrome/58.0.3029.110 Safari/537.36'}\n",
    "url = 'http://210.77.16.21'"
   ]
  },
  {
   "cell_type": "code",
   "execution_count": 81,
   "metadata": {
    "collapsed": false
   },
   "outputs": [],
   "source": [
    "session = requests.session()\n",
    "session.headers.update(headers)"
   ]
  },
  {
   "cell_type": "code",
   "execution_count": 82,
   "metadata": {
    "collapsed": true
   },
   "outputs": [],
   "source": [
    "response = session.get(url)"
   ]
  },
  {
   "cell_type": "code",
   "execution_count": 83,
   "metadata": {
    "collapsed": true
   },
   "outputs": [
    {
     "data": {
      "text/plain": [
       "'\\x1f�\\x08\\x00\\x00\\x00\\x00\\x00\\x00\\x00�=鸚\\x14W�?风��Pi\\x13乭?�yC�\\x00帨Qa\\x14撋.s�\\x14�\\x05\\x146]=U諃I��\\x05萅愿;駚D罣\\x04\\x151\\n\\x01�\\x1c诐偬f摍撏�\\x13g7赡蜏竭椒�瞽篣轄f菣�\\x02U黢蒿}葵戽�:痕{_腴攩虘溤s桢絔鞷8\\x12嫿Z�\\x1e媢魐H{z黜昷ⅠD,止?,厙L承\\x18媿崓E仟��>\\x18�=\\x10冓51迷諏\\x19蜌賞��\\x0ci餑懗柘坆�\\x12詬(�(��-醰-o*y3襸�爠�\\x0cyk\\t浭笁痢�!Y7\\x14旜銞\\x7f\\x12禓溴\\x11�%�+���+:SqL�?瑲ニ㎎$��\\x14�*h榬>\\x1b\\x16a�橙《H;�#沯\\x7f�%牜矱�\\x0e*耑\\x05]\\x1e\\x1c憴聐-拺3C庖韾\\x13\\x01>閆NPi�4R4虉畬�95+沚(蕏A�\\x15儵\\x1f噐95\\x7fX\\x1a視仏饊<�⑻(�\\x15朙$\\x0eD麍<�钠#�\\x1e杢%噿鄎+\\x15�!M73ES� 槳橲Zo.唼fqy悱�\\x18y棜崒�\\x16L)\\'�\\x07�\\x08JKxX\\x1e旾�\\x05\\x1ek\\x07沴铏\\x16K%搲x串.毃�&\\x13嶕聱DL)牔錦LE旊\\x03rFAOYe<=犳\\x14#V饶r跔歄鱣啟肍傅9F俐?�2l内婃P\\x17d頕�\\x1e|�#圙?�&�\\x0f6�7渨湨▋Cf�攬莀h獬圃�9渖9��m蜬繓=蜇\\x10�3\"雸�峈軙^惓Y5?萭p(艰n\\x7f碃B!udPz�_討1G(婑�8鹲T俽r塀\\x0eX5_@弘BL+毴\\x0e擣)��\\x15?r\\x1a\\x1b##F$揝d輂?�\\x1a厹|�滫燃\\x15�#氩\\x00l顷絒覩\\x1e嫳饄<輮b&�M掂Fd\\x009�垺井\\x08Ag礈�7J垭j�2鮮垢Z腢\\x17茀9憸2\\x00ぴy騷Af姾\\x01榾望p&Y�\\x01GT�##\\'酥>W.鑆$\\x000瓥L�=Ye)FTㄔ敛疱\\r蜖\\\\�鱝��%巂�\\x06H$�輀\\x14囥D�&\\t\\x01H袶\\x172椤胣)羲櫭兒V蘥戦\\x17\\x14�\\x04l椋�\\x1a�(顆\\x1bア灚躾oH颍咟`�\\x7fK\\x05蚉MUC\\x02峊讈粚り絡hq�譄[駭烞榋\\x01閮棝謰浊��\\x01M繩\\x0c(Z玢豹�\\r緓W\\x0bh\\x1a萯 \\rPW发�<A\\x11\\x0f�\\x08G菔U耊Et猍�.t;\\rU蘾:�&砫髺嫯鱡)�\\t\\x07鰾\\x0b/�\\x1a案�*a\\x1b諌2徵T\\x0f\\r�\\x17I��\\x02汼\\x02DP,屆�\\x08膅B\\x1bg蔖�\\x11\\x14�b�\\r昁LV\\x1d蹉Y译\\x11-鱑邪)痕w躳C)}�\\x0b粮爍似昙6\\x16 薵术T冸I\\x08淗Y\\x0ck苡齁鐏�1顿\\\\K5\\x04�)嬗薊釉騵~覟S3嚂��%鼤矹*媁.漥k镯zンo昐蓌禇S宆∪�\\x07E�]F:3�d<}u贊�?\\x1b\\x05Y�\\x10\\x1bk\\x1a�)2��5M事v\\x18R\\x1e擥�\\x1fx(鎍腅\\x05螮]\\x19�\\x19祟讙��3\\x10n爌�\\x00抖Δ�\\t宰\\x14c骮酸\\x02\\x02溫4\\x1b�\\x01;vn\\x0e�牋廹浣?pp+:(7釿j鱤P\\x197#Y%ｉ2�%\\x08��\\x19�歍}}&�\\x0f\\x7fH\\x1bU<硓沬 貾沴p5\\x10\\n岍善Q\\x15Q�\\x06<圏@咮| ㈣害w�(�,\\x16T9�\\x17匄徳\\x13辯\\n袌FCc嵰悮�*y_鵿�:P\\x0f\\x1aP�\\x1d\\x04\\x122\\x05�P*\\x059\\x01SB%苅麻\\x00�\\x04�.�(h绩\\rhZV0K\\x11\\x19裗�\\x14\\rE�\\x18JN蓸B\\\\腹2颰\\x1a�\\x139�\\x0e鎯1妿玶N薮S�\\x19\\x13脟\\x0e�\\x13~聬\\x12\\t_潾跻\\x0136憚7�\\x19騊塪-╣C� \\x0bs韠瀫鯔{鷎潂eY冋�3<�\\x1e蓯7=\\x00v赫�6Y/0Jh胀\\x03銼M5#�,k碜蠬{D屫v�\\x14F諏rpH\\x1b郏f=葧�\\n�\\x04軉鷩1�+籩蚣訷\\x12�癫��1指痳\\x07:}�#,O\\x18告\\x0f茵q滰刂$\"槙/o)尡�魫�\\x1f\\x0c\\x18\\tY臂钶惠.\\n鸓縀觠呔秧5俀\\x0b汏楙\\r-W4=雽蠋飓雑\\x04逻\\x12\\x0fI \\x1d\\x05�爔+嶗谴kY�\\r�\\x1e�\\x1be槅捊糱Y�\\x17x\\n\\x1c�\\x1b`\\'m-緺\\x12�\\x1d�\\x1b(丗�\\r)毨uk@?v8i醾飽xk=n\\'羓噅�\\x05萱\\x0fk蒓>槺躉<頕舘;\\n|惗檧��+\\x0c蓵ZA唯鎽朤嵺(�(刦7J裈�;�0�9\\n*釗披4� 缬I泛鴞VF�\\x04僕�; 彣9造澤�/>紇醻佥\\x07�3g4o��\\x0eq穡讹�\\x13鉭a笑Ｑ晲\\x00Xsl擳d頹FT`宩D繓塌铏g搱b�0f\\x04畠b{u揶>搄豜萱鏧絓�:(X\\x02\\x17\\r%\\x18焵\\x1c\\x10bぉ\\x16霵汅i\\x14\\x1fC蛵b9凚4\\x06�(T2⌒(M\\x1aQ迟\\x1cq號\\x06繁\\x1a,禒鰆饽q跉\\x17徶�\\x04~O\\x12泷%五�\\x00漽Nw竊;[\\x07屉\\x11炝qJ\\x02R牤A�佷\\x0e2�*偯V�\\r虑\\x0e釸�=�\\x18N攥�o鶭i�ジaZ掫E\\x10�\\x0c�\\x06�\\x07\\x1a貧)R亍撂)長N3ㄤJ Y]O\\x19莙慒B敉%\\x07�*Q\\x03�.屹=姕%砲�\\x10E�?�0o\\x12�5�\\n牷�\\x18\\x0eQ!l�!珝^誅d曐喸漉7\\x1e�\\x05\\x0e\\x1a竎鹑�q独\\x11Kq~凍\\x10晶硸\\x12暎癪莊雸U\\x04g5J(x毯踱〥0�\\x02昨\\n`�\\x13V�\\x04;K�\\x7f蚫噇荷6霡z菒藦岄2⒑_W涿\\x11Hprp殨%鐁8gD\\x1e�\"暫x�5蜌8隡�9gB擗.雰龝馷\\x12�\\'劚闧Ca\\n\\x03\\n鞄腚H->攬G腚H�+偘3�)~�:驿v�:\\x07孆=H�.熪熡恗觽Q�]�9�0p\\x19~犺��:?�廇�5S�(h$�今\\x0c�\\x1d鑄d}�\\x1f.HIH愗\\x11叺*\\x14\\x02Mrv嵴9\\n\\x1c%k\\x0c#兿\"#�鉼缊�:�\\x11X﹜>貁頡垚c抢\\x0cV\\x07撓\"Gj�*\\x1a\\x1d邊8�%5q\\x1cq軞绪喐�W�)剃Q已ｍ�2�\\x1a╲;鞍+�,2/暵[^�玈n脗\\rin��j\\x02�潜\\x04�*|�Y挰kxl柛U*\\x19�3n◥i烯�\\x07�薭RV\\x1b藯`Q軞谋\\x18S[飁Lu⒕|韦闥�\\x0c!7鯇�&Bx\\x11w;#樔y,\\x0e豹\\x03眝s寽�B\\x0f鬬\">鳏f[聏�\\x15蘼挅荙诟9�鋴p8�,陏i@�\\x19J\\x13鋐uy�0e蒴鋏 躧\\t麋娛藘a閳V淌\\x1azW�9B堬…1�?輳�12-aA\\x18�\\x1d�釓逪鰔2抙\\x02╬枭\\x03i@\\x1dW睲弣B�\\x7f0:\\\\@榖tZ聙@槩C還棃.J\\x1d�#\\x00{{\\x0eA拫�嗈懓�\\x19\\x07�\\x16>#(鳎Q[I`堘J.G琏郿#~�S\"簸�\\t2吙z <榩门硠\\x12\\x0b\\t\\x0e\\x02畏碋胪�\\x12�\\x07判��7城�4:N\\'峐�\\x00衛Xl爅�\\x17�樧睯嚜荈屃XCC}u捕NI&\\x1b鷎��臌�\\x07j\\x12蒂亁uuB朣当$\\x1cn岳�\\x18\\t�0u1LH�\"+f焉\\x15BtR|�+枅�&n�\\x01Y\\r\\x0b�\\x1a栗��\\x03黋\\x07<辽q�\\x11<斩j[(旙�\\x16赽侳┹Y\\x01\\x7f\\x18su@�\\x07\\x15�\\x07矫癌C\\x1d�:� 薴桔��%d鍍p\\x069轃擉�\\x01\\x00蘞阱漼K樅洇�!豺櫊籼I哰o�镘嶚\\x07W?G\\x0e\\n�\\x07)燃ay(鋾\\x19O�\\x11擦叨\\x15\\n刋_氯\\x11揄\\\\暜煊#痱碣废軿竞�Q�$\\x02j櫌aj#扒�\\x16燢&産圁\\\\�<-矡\\x0c濐恩�#\\n>坊\\t\\x02\\r%7@座e_\\x12}閝Cxz\\x02挤抉硖燂|�9闔d�恽b榤\\x19蚤沒�!\\n螨﹠j赐蘝窘��妍洠m@�\\x05∑e�5�3郅\\x1c1姬G漕稛\\n�\\x13�\\r�.佷�~\\x14+=\\x08玏\\'\\x08\\x07w\\x16疄�?�楴\\x08;>6,īa�\\x0f6�\\x0b�\\x1c\\x16uE�\\x06�9�\\t��\\x13祊}t耲燣i鄥擛?�1霦\\x1d\\'�:3辜�2叠铐o�\\x17聎~近涴�wN/I巰\\x04脖B\\x13\\x07\\x18=麒t渄盚\\x14\\ty\"%J\\x11]銬勫鋫佽盀|BP[顾尗猄Vy畸N俳稨Bx]脸M\\n\\x07\\x1d渹\\x086素尧鍶\\x16\\x1b�撝騳%c頦L糟\\x1f\\x06祡�渑帝運�堂s+�a�-\\x11:\\x01-V袀�;;FN履欿\\x15蒐5�&\\ro�9L\\x11�0僭晆馧条$c1�:[\\n\\x04;N髕k舍4鹨\\x1e紉窛x密$\\x05F�\\x15袏�)�0経舗\\x02�q嶁\\x14\\x1d\\r链|�\\x08t\\x03�),嵤h煸\\x12^洘}{��!T\\x1c鳗秼`�\\x1f\\x0e禎檏贇篎�）欴��丢塤�黧昻�\\x0b\\ts\\x13�\\x13洳\\'瓵\\x16逺\\x18鄇\\x10v鲢�\\x18禩缇\\x11衄\\x16黎[聡靻)悄\\x031V\\x05R\\x18\\x01v\\x07�+&鏬\\x1e惂\\x1aV;漷鲎V\\x13k:槏w8�臽a镸=鐈\\t�\\tW\\rS嚊�趭4�q^\\t鮠\\x07z豒玐T�?誥k\\x0f�\\x06箢甒柹�\\x06R\\x18�>\\x01� 垻☆惁锍\\x11e吲\\x04��\\x14`e洆�\\x12`I0��\\x0ct緂;睶\\x0f籐�\\x12a1∴茡o诌J\\x12宔8�>]髓\\x19�>1�pSFZ丿u\\x17\\x14]65茛\\t�%枋ΑcW�1\\x0c�\\x10\\x06�蚽\\x16踕\\x03�\\x1dhV�\\'b\\x0f~z投b敕\\'阎�\\n氅聮蝥��\\x137?\\x00m髡r�銽邱�(l勨斕\\'�嫻t櫫Lび\\\\v9簫暪�(s\\x12+s\\x17Vf�%\\x1fGヽei5г�u痕聋�9|\\n粌ㄠA2R56＝> z�\\x02�ó蒡絑!HO郭#�z\\x1a翶\\x0e9朎Ye@.鍸娏有碫g\\x10缹<窆\\x1d�\\x06蜇�\\x1e\"鴫�15俁�5m\\x10H舊�5媿鱎\\tf�\\x19糀嫺�\\x1f\\x13蓑lb涮袮憼�\\x0e>e睍扝i荗觞\\x15k�2V羟u鰊牞樨[そ\\x1e藿墇�\\x0e辤聉锂�\\x00琬犸7込拵}煔�5C\\x1b0プ�=娳d煔艢鍁�\\x0c韃W蟙瞾喝审�0\\x1e?舩|嬙`?_j(,�-�\\x07溨覀MC\\x17,鲠�/隔\\x035�+�\\x10N�琷驖翰w�&蠃|�\\x13O�嫴貅)孒\\x18Ob龋JzD1\\x0c�\\x14<\\x0b亪�\\x1bU=\\x16恉侵淳畬�\\'陡\\r7�0澈�\\x05�*]WfんZ貦夢d賡�藐隒艖扆\\x1a#L\\\\�藔[#@桶D濔9俓H\\\\�.?\\'\\x16%\\x1d簴\\x1f研萕+聧瑿�\\x11臱罤絜泅陠&�.�\\x04~s蕪萝TP�$┼瀠録雕,�0E�\\x153}�\\x1c`E~S梄�\\x02\\x19Y鯰瓈卑櫄賅]鰐.\\'儸�)� b�儕贆S囫�#]貸蘉[\\x1d餥咋d�$\\x00[2輵�7\\nM澉軑{\\x13\\x10�鹵�.\\x0b皁<I\\x1f罻賠z崾ぢp鮼n鉿\\r婒B舙|屆g掹1�\\x03n挢渦�% 測l�\\x0c��鲣韮g�3a\\x1e埢Aj�\\'�\\'\\x03z+&忭�\\x04]\\x0e澨�:*鳐兊�\\x11c[言饢4q�d\\x0e媨$氼6宁\\\\F;蘕�9糭k髒Q鞢歠(矫\\x02+L>\\x03]�9�\\x17�?q\\\\��6@�\\x07O簅*\\x03�-H株瞽燐\\x15,\\x0cm�_�\\x1d鲰暚�\\x12}�9寍��\\x14(\\x04\"I�5T�钓I矫O〨鈽鶙n\\x14�\\x12O糋*\\x0b��7*a\\x17%荵t�\\x14P\\x02o\\t�\\x0f\\x1e{桏升窞�\\x17_�.濯蔦謏�\\x1b泦妀餟\\x159禃\\x1a�}�#ks5寔�,B|q&蝚蔶扳ｄA筌DA;p\\x10奡��\\x18�\\x06=a膢�\\x0c0湯燑�<��\\x05炇d*礙瞺U�*�9楣Mh\\x13\\x0b>遐*=嗌璔箅郘(饩迠W$緞k屛!a锛鰊(ゝ櫎d}v 副庞4奥\\x14h\\x0f傢3�\\x11肨行\\tN\\x17�:豶+撧S�\\x02檠�\\x15�\\x00\\x18&,\\x1e養�&�\\x12卶尚rjV跒M�?\\x11|�\\x0b�7楹娥:{s\\x1a鹛挘A\\tv\\x15誐�\\x0b.o贻D�1钙m褥M6\\x1e杝6寰s帅�\\x14虥Yg�\\x1a^餤�\\x1b*鉕堉a3\\x16赻絳\"藎}\\x10\\x0eф�,偋7��\\x1f�4�\\x01麐鼥o酓^铬霰�\\x13哆f髑8囒糞f羷;�8\\x7f�Aj�8贙填yA�匌U�(P繲╔Ц\\x0by|砀滏\\x1f\\x12\\x14庮�\\rG�:�\\x0e鲮m{蚙浸鸋��幬熝鱼翌�浇�\\x07<�(Sq膴綕粄�;|但�w廵x=�\\x07粃缓鞒\\x07\\x05z粄h褩圳\\x7f蜚\\x03輫鰓D诨鱲\\x1f皬贙綕?雿错睑駘;驋楽�)�#�萬�呻b堰^鈣-\\x02Y姫轂[刲撲霦�楁$砩S褳\\x7fg沖鄓硃�t�è霈D壣\\x10\\x1d� :蔘戲�(壚�\\x0c\\r\\x02蔤�=~�q�3b`�\\x1f:>圞t鈅&\\x19G决謔趩鴴I~藝{k\\x1dw�裧藄Y�\\r\\x18刽纻璸�$�\"J\\x06嗓茟I5Y舭�\\'�\\x03\\x07祫�畨}\\x1fY浙\\x0b窐�\\nq�-�\\x0e�\\t0rQ\\x17[坊aw沎�]\\x0b\\x0cｔ載X潞眤gW%,銗�6p\\\\ADrH膝3CZ~瘐!\\x15\\x01辱Z.�7~履\\x0c.挽\\x14刀*b红�>u5q掀E篊右�\\x18i槕\"�$�\\x03w僌︰鸛幬纮J质\\r{粍籫}�\\x0b&h稿R浾?吆竫煸造[7�4��+辦e鱃{Bkn菣甧4S�\\x05-S蹐y戌繆\\x03竐�2X鯘�9x愁v�\\x1ci�\\x11\\x1e燪h=��\\x0f�&粧瘇6ulu}�隀�\\x13飹攭SS亲nB\\t萞苟<贡膊鄶撼:\\x7f\\x03尸遉Y箂r霏��\\x12蠔�\\x1b\\x04\\x10济鑫骶Z�\\x05%�\\x17维\\\\洖:y泱卭飢y辏{+孙�/渰\\x7fbjuv��路K缱鍵M8~0ur铎�/�.-|桓|�骈蓩kK\\x0fN]��\\x7f.�aycme狺饪徒{龘�7\\x17\\x1e槛�+W�\\x17 eb�9V@\\x04龇�蜰LJ��逸筥5曲1誖\\x02%藿u�\\x1adLL懚鄛iz轼音��嶋�&O\\x7f\\x0c\\x18灋]=q駶卭�\\x17h━\\x0b�&&a汌迚霹賴g竞�坏咻z磝\\x0b盀榋黮醄仃\\r5犾鷒!o嫫�1菺,Z�妍搒g!B命洑��鱋荥骀蜷賙孜|氟鹇�朔\\x11?O�>\\x04朚/湚:�`閣\\x17練炢戈4�\\x06\\x0be/緎o}e逄属\\x14捼�舆轉(\\\\�泫G\\x13S\\x12�\\x06鶬\"�\\x17飊\\\\\"劘遷X絫j�$胞�壮\\x1f秘\\x7f钇展召曘Pr赇曪�伴叜為�6f&&o齣f��\\x12敓^8t`锬�\\'亢r妃子\\x0bW�}弼犏芑惤x鼹�\\x0b窏N蛚2饺\"q�孳��\\x17V護./}w檫�\\x01`澎千o.N汰�?8��+_L�<5雕\\x16銶/納z駶曱壣SS�\\x0f衉\\x0b\\x12掑�?[褽tH渪\\x01溟儋彈\\x1f搦貔彟�/~7s駜徬\\x1f煒溬X�傂\\x7f婊�\\x1bk焹\\x05茭右\\x7f#敠飢柜貔\\x07�/蟔泒x�鷩+尺�?\\x7f�繇摋O�=�巅K�巢>絧駜碉f\\x1f摭\\r�\\x7f�脮K棏Po琤*N�7奎\\x07H殅\\x08爊�樵G+繘�<=;=�6縱\\x7f裎�;�?辊hm��%袛�\\x0b\\x00j闫聝檷;_ML�,\\\\�忖腻i`肽鋥_��呔>囈7n烃雵o/�;;s樘�\"@^灳}�-瞩麐�-_今�薩-_�:\\t鋬M虀|硌誷X\\x7fA�\\x17�:渰�\\x1e\\x0c頞I*#�/L\\x1dKL\\x1d_汉�8�弭<診嚎xlj稖娚┿骶<欢创6?s礻唾囁�钓藣�3�\\x08G侙�\\x7f~颻鄊z砚趑纶适跴��\\x07+\\x0f薻▃犋�\\x07W�8=y玟�\\r爼�\"褦�摟\\x7f\\x7fwubr�瓩+\\x13摖M��躅褓噽;sq�娱�;K\\x1f�\\x164岠%d&�3�\\x16彮~犋嵟顯硚}罡璗惺璒桸蛜|n��%抻]黤e\\x05\\nO EZ[A糉�\\x17遈�\\x7f鲋軰��q�澯s�次\\x7f磛煰?ur癯�\\x15袕者�=\\x02搴xl貅7>_�\\x1cZ}�尿�#9:Kgq塿L8^D>蓓��)=龇\\x10Z鹬\\r�\\x13斌\\x15\\x01�?⒏�/@錐僧�\"拿T釖梴#壂M\\x0b饉舼\\x15NV瑷逧!侽篝^\\x06邖%AgК蝅.\\x14:幢��\\x0f�,\\x1d �\\x18�8)\\x11��\\x03%v^�=\\x02陯愷仄\\x1e殘蝬Z7?盖\"N簁\\x18鉁毑%受抈髞Mke朳�<\\x10Wrhc]堢\\x1dR搟懵n�9裒昹a�=�2紼Kv\\x1bS痁谿�.\\x11協趕.農-瞲Q愁�驔\\x15�_�+�:苤\\x1fm\\x0b�!?瓖E�<蔡��\"\\r\\x14�\\x19\\x18禝昒��&\\t.撌u圈\\\\�/噽BH嬷鎊+\\t耂�5鶱钹態�>嘠Y琼\\x0f鋎dK�&\\'5;N\\x00\\x1949d7蔚�\\x06d咗镛U螵Y\\x19幤卖嶭�\\x04_�卄伃�[L�*L\\x19��\\x0e丞Q~沭�\\x1d>\\x19系TTX\\x100岀+蜜]泿��p憱\\x1fh�&Χk铽�6熗斩9k\\x17禦豏\\x0e�\\x1d屍-�悅�\\x1f!\\x10媕�\\x00N苎儽,B\\n峹﹦QI(\\x1e媇[9芳prq\\x19:螗\\x1b3鑗\\x1aud疰\\x14�\\x10忼V�\\x02\\x0f8T碡乸i�0酡bq�4\\x1c挾\\x060�\\x1dh斘\\\\�% Z鎝搁�!用\\x1ee�?jk烍D�\\x08靃[\\x01謁竟湖崮鷹B%捣{3鷌�!f醟N*\\x18\\r\\x0f\\x11a\\n鲥#5S硦-R竣畆<蠲�(*鷳棏\\x17﹖L�(~�\\x17篳�2�\\x19\\x04氰羅訊賏[恒]饙8�.\\x01�.*P�\\x13棸廔擅�皣\\x0et翖荆�\"oV\"\\x11�\\x14�;h戗\\x17���趀�\\x02珰觧(\\x14b\\x11�\\nD橠r}\\r)眈7輞\\x18廾a<孨E呌槅矵SV}0\\x0b捑c\\x07�\\x1b�\\x15\\x039\\t$D赿厺S腜呈疙|l8\\x18\\x10�#�\\x0b�\\x05妔\\t-�\\x1b@�\\x14v�\\x08I�#@\\n媑\\x18８\\x1fcZ?ょ汎f�*H覬�佡.躹t�(糳S�\\x12揲&�\\r溇嗚�祐蜵埤卋/J謲\\x07覌1K寛\\x1b庤斳\\x00B|�\\x0ew蕇H\\x0f)\\x0b�\\x0e窳�\\x15\\rUQ�4跏0p!妓]沕�$�\\t�\\x02r\\x03C赬%S姼蛰�/\\x1c�炉禞�\\x0fB\\x1d\\'冞兟�隿妳p��*俙Dw哻#Z稑Sb篟怳\\x1d抍cJ?}振軧\\x08\\x10ょ5瞺\\x0f呃姢5�\\x18滮臂鯋閿9j�:鷣�\\x16s蜀,钉塴c�0漲f�觷腌幁�琨g/甕y瑒潒=\\x18!;墱�\\x13\\x05\\x02<�\\x1bKXBDe嗪\\x12\\x1f>s厊\\x01囿汛S\\x17T卨М�\\x02聯X\\x0c:\\x06樳\\x01啇4�\\x01�\\x16@�\\x03L*o馮\\x10炱A�\\x1c�麫e韘\\x13�8Gs賂⑩\\x08\\x1f6戸Q�\\x18st羈！g禄�:訶�\\x1e�9\\x07脹擮)咬�\\x05m]屌�鸆\\x187�2q�\\x06�熩饳_帍l喭�7遲:\\r\\x16J;靋讧醌9�\\x00\\x1d梤�\\x04鵅榐燰q値\\x17(無\\x03ez7,癣濩A救�79\\x05伝�K_x\\x1b\\x08�7換\\x17僣燈 TI[�r祧駌\\x0b≒X�\\t\\x18T昻K鑏\\x04\\x0e欧�蜡PE爱q\\x12�\\x17软r種q|娉嘉\\x19#浜氮\\\\�\\x0c轄頊璫▓�(nQF\\x15p�/Qn�\\x10�6\\x05碯.驞的|s捡旃�\\x7f境poC鋴硭S\\x18顿iで�8\\x0f檐垛v巚\\x0e�\\x17羮�\\x1a\\x17tuT螤癗6q��8\\'w\\x0e�\\x03�:t4錩�\\x16癩湩Q�\\x01圸qM�\\x1ft�\\x1dYD媖�.�\\x10@鏟\\x18宨J摟\\x0c绨橠R2\\x16胑�9\\x15Μ揌蕭\\n/b3�\\x10爠岿&\\x0b偝\\x07�0�<3*惫aM\\tqJ�\\x08f肑WA螛\\x1c�飒N�\\x1cb⒅�\\t%7\\x02幠瑊赲�\\n�!_妳s斊�![\\x7f(耟\\tHg2%鵉\"W鐓\\tZ箚絘牀5\\x01銹偔 \\x1b生�?滪潼;飣z�=X氥bk杀Q9烥\\x1e7僽V诒C\\x12g<�\"!�%.�\\x05韠~p\\x10�\"a%f榚\\x15梪]�+獭Z\\x14u�0(l�\\r(�#Jk甘U\\x01心\\x15�9%?h\\x0eI璕偄�\\x07�\\x00\\x19w\\x1b-l馠�I\\\\\\x14\\x15B(鋾1�\\r奧痕�\\x0fr猂%\\x14\\x1eFE鉓鐿3i\\x02=钴)膫�燜�a��-刡魟鶯嘡A僄絀攡圍竜欢\\x1b\\x16�\\x1f￣\\t\\x10��\\\\D玂訕\\\\_瀃�蚧雋[aXf暒�%b\\x10+\\x10@堽┿\\x1e\\x19s\\x04皼\\x0e]�-*蟧(\\x0b�  \\x10D沄眑綑�燑徺瘉\\x060焮\\x7f<鯖棚.辺黛�\\x7f驏\\x15!�\\'�+輘�\\x02*谊螡>\\x04�\\x04\\x10偔攞�\\x001\\x10H>带衞蠹匆�U≈X\\\\�\\x17GP莹凉捜喱�\\x02�\\x04�\\x04� \\x1d)Kc帄\\x12y┉瓥挌K�6!碒$Xh�\\x01朖  庂r龥\\x15赒\\tz`\\x11Ｊ \\x12z\\x10\\x0f@秝驖\\x00vm\\x08w亡J醒9�3�\"紦�\\x0f7\\x00熧\\x0fB褒軼秊9�,謙\\x06領am+峎 �僼孚!�*�3溕\\r�\\x06Yq\\x14U!9N\\x1d\\x7f�&@�\\r�2�,\\x1f噖I暽x\\x1cih%嬟婻<毃�*\\x03hr隌1u�厩!-驾�\\x063�2頥J緔剜嘮w繠）*凧}�\\x06\\x04\\x06�\"周\\x02�\\x0b�5\\x13綂舼隗鉨\\x18n\\x0c\\x0e;�=泧P\\x0e�86X稶蛐萔\\x05�\\x10�\\x0f誚\\x14�2郲\\x1b\\x10裭l祆�\\x15a萔岪誜2扡刨y\\x1e弘t拥閡蛑w煈?睒礪导総i�衍恢��#ga騳~�\\x0e镼艒蟖E\\x06\\nV4y\\x0b�\\x02\\x17丂1+�6Y鱕k鲭雴褛\\x04&QpJ烋\\x0e~\\x15孬%�(&�89鱗FY鰈�\\x00\\x13Pw_?i_竂艖\\x0b\\x1fCA肹戆� Qv鰐\\x1f鑝蹧n镱蘒Wg�辛�\\x03�埚u倿呝稁栙,\\\\R珐\\x16{�\\x0e\\x1e|蝶@菛[�+fZ扑\\x1biXu醮\\x1e�6\"鰰�\\x03ㄥ�\\n�k\\x1eK諭S&�\\x15鞩銧�V雎�*g\\x01[\\n\\x054佥觵牠符@汐\\x1dv搕╔jU稢\\x1b懻<欪��l\\t\\x05嫡呀�璳?\\'\\x0c洰 �唇疑J\\x12\\x0f鰉\\x08G侬q悱捊!剷塾枕2 G窠B叻\\t\\x04\\x03�:N�尋<3)\\x1f�\\x17覯檿\\x7f羟~�.jF顽\\x15}O锞�.�|\\x0fvX\\x1eh�\\x11腷ェh瞖冨コ\\x15�剁�-灄闒碎\\x17檔旊�\\x10~�1瞉\\n6UY蝗` 押�念猰鄱嵬\\x0f\\x08浱恅諈d4裝銴]\\n2\\n�\\rT榙Fu\\x05\\r-2Je臟\\x15焕鹡\\x0b�!\\x03\\x03$�\\x04_fY\"�\\x166\\x11祏\\x147\\x07鋓\\x03旹z裺誷-\\x15ETn@�+賷繤*,烿A\\x1b@劻!&糑�\\x01�$[趦镨輡{萣6�\\x1c驂緈\\x00(�\\t\\x7f繀G侖R\\x00n\\x0e\\x0f百t�]&\\x00�\\x1f5\\x05壿稸KQ�\\x1d犣�\\x15⒋貆\\'S�0�4�鏨福�\\x03薁2.的*穹Q�9�~嗔x\\x13井í�/�\\x17�鼑颈救蟱鯡玽仪示\\x18<\\x15k攛<襑l\\x18怱}懢h_欹究雥★咕\\x1d-};��悲眔{_S弋熆X鮎UL\\x1dl㈨闖\\x0bL盛�;�\\x0b�\\x16\\x16UN6轛�/鎟怐_)蚨夐十\\n磷A慅溝\\'颅桶嚃\\x1c�%_\\x1f厭\\x0e�>焗�\\x1djm嶢f+l幽V\\x1a\"_:UI�\",�\\x1d啥�\\x03晫�%裕\\x00\\x00'"
      ]
     },
     "execution_count": 83,
     "metadata": {},
     "output_type": "execute_result"
    }
   ],
   "source": [
    "response.text"
   ]
  },
  {
   "cell_type": "code",
   "execution_count": 84,
   "metadata": {
    "collapsed": false
   },
   "outputs": [],
   "source": [
    "r_url = response.url\n"
   ]
  },
  {
   "cell_type": "code",
   "execution_count": 85,
   "metadata": {
    "collapsed": false
   },
   "outputs": [
    {
     "data": {
      "text/plain": [
       "'wlanuserip=0bc386d9e643d188b011a0d00c9b5c40&wlanacname=5fcbc245a7ffdfa4&ssid=&nasip=2c0716b583c8ac3cbd7567a84cfde5a8&mac=53ba540bde596b811a6d5617a86fa028&t=wireless-v2&url=2c0328164651e2b4f13b933ddf36628bea622dedcc302b30'"
      ]
     },
     "execution_count": 85,
     "metadata": {},
     "output_type": "execute_result"
    }
   ],
   "source": [
    "r_url[38:]"
   ]
  },
  {
   "cell_type": "code",
   "execution_count": 86,
   "metadata": {
    "collapsed": false
   },
   "outputs": [],
   "source": [
    "jid = session.cookies['JSESSIONID']"
   ]
  },
  {
   "cell_type": "code",
   "execution_count": 87,
   "metadata": {
    "collapsed": false
   },
   "outputs": [
    {
     "data": {
      "text/plain": [
       "'B28CD368ADF59C95493368C3D149187F'"
      ]
     },
     "execution_count": 87,
     "metadata": {},
     "output_type": "execute_result"
    }
   ],
   "source": [
    "jid"
   ]
  },
  {
   "cell_type": "code",
   "execution_count": 21,
   "metadata": {
    "collapsed": false
   },
   "outputs": [],
   "source": [
    "# Cookies = {'EPORTAL_COOKIE_SAVEPASSWORD':'false',\n",
    "# 'JSESSIONID' : jid}"
   ]
  },
  {
   "cell_type": "code",
   "execution_count": 88,
   "metadata": {
    "collapsed": true
   },
   "outputs": [],
   "source": [
    "querystring = r_url[38:]"
   ]
  },
  {
   "cell_type": "code",
   "execution_count": 52,
   "metadata": {
    "collapsed": false
   },
   "outputs": [
    {
     "data": {
      "text/plain": [
       "'wlanuserip=0bc386d9e643d188b011a0d00c9b5c40&wlanacname=5fcbc245a7ffdfa4&ssid=&nasip=2c0716b583c8ac3cbd7567a84cfde5a8&mac=53ba540bde596b811a6d5617a86fa028&t=wireless-v2&url=2c0328164651e2b4f13b933ddf36628bea622dedcc302b30'"
      ]
     },
     "execution_count": 52,
     "metadata": {},
     "output_type": "execute_result"
    }
   ],
   "source": [
    "r_url[38:]"
   ]
  },
  {
   "cell_type": "code",
   "execution_count": 89,
   "metadata": {
    "collapsed": false
   },
   "outputs": [
    {
     "name": "stdout",
     "output_type": "stream",
     "text": [
      "wlanuserip%253D0bc386d9e643d188b011a0d00c9b5c40%2526wlanacname%253D5fcbc245a7ffdfa4%2526ssid%253D%2526nasip%253D2c0716b583c8ac3cbd7567a84cfde5a8%2526mac%253D53ba540bde596b811a6d5617a86fa028%2526t%253Dwireless-v2%2526url%253D2c0328164651e2b4f13b933ddf36628bea622dedcc302b30\n"
     ]
    }
   ],
   "source": [
    "querystring = quote(quote((querystring)))\n",
    "print(querystring)"
   ]
  },
  {
   "cell_type": "code",
   "execution_count": 90,
   "metadata": {
    "collapsed": false
   },
   "outputs": [
    {
     "name": "stdout",
     "output_type": "stream",
     "text": [
      "userId=hyzx2305&password=hyzx2305&service=&queryString=wlanuserip%253D0bc386d9e643d188b011a0d00c9b5c40%2526wlanacname%253D5fcbc245a7ffdfa4%2526ssid%253D%2526nasip%253D2c0716b583c8ac3cbd7567a84cfde5a8%2526mac%253D53ba540bde596b811a6d5617a86fa028%2526t%253Dwireless-v2%2526url%253D2c0328164651e2b4f13b933ddf36628bea622dedcc302b30&operatorPwd=&validcode=\n"
     ]
    }
   ],
   "source": [
    "userid = 'hyzx2305'\n",
    "password = userid\n",
    "data_string = 'userId=' + userid + '&password='+ password + '&service=&queryString=' + querystring + '&operatorPwd=&validcode='\n",
    "print(data_string)"
   ]
  },
  {
   "cell_type": "markdown",
   "metadata": {},
   "source": [
    "userId=hyzx2405&password=hyzx2405&service=&queryString=wlanuserip%253D0bc386d9e643d188b011a0d00c9b5c40%2526wlanacname%253D5fcbc245a7ffdfa4%2526ssid%253D%2526nasip%253D2c0716b583c8ac3cbd7567a84cfde5a8%2526mac%253D53ba540bde596b811a6d5617a86fa028%2526t%253Dwireless-v2%2526url%253D2c0328164651e2b4f13b933ddf36628bea622dedcc302b30&operatorPwd=&validcode="
   ]
  },
  {
   "cell_type": "code",
   "execution_count": 91,
   "metadata": {
    "collapsed": true
   },
   "outputs": [],
   "source": [
    "Cookies = {\n",
    "'EPORTAL_AUTO_LAND':'',\n",
    "'EPORTAL_COOKIE_USERNAME':'',\n",
    "'EPORTAL_COOKIE_PASSWORD':'',\n",
    "'EPORTAL_COOKIE_SERVER':'',\n",
    "'EPORTAL_COOKIE_SERVER_NAME':'',\n",
    "'EPORTAL_COOKIE_DOMAIN':'',\n",
    "'EPORTAL_COOKIE_SAVEPASSWORD':'false',\n",
    "'EPORTAL_COOKIE_OPERATORPWD':'',\n",
    "'JSESSIONID': jid\n",
    "            }"
   ]
  },
  {
   "cell_type": "code",
   "execution_count": 92,
   "metadata": {
    "collapsed": false
   },
   "outputs": [],
   "source": [
    "headers = {'Accept': '*/*',\n",
    "           'Accept-Encoding': 'gzip, deflate',\n",
    "           'Accept-Language': 'zh-CN,zh;q=0.8',\n",
    "           'Content-Type': 'application/x-www-form-urlencoded; charset=UTF-8',\n",
    "           'Referer' : url + '/eportal/index.jsp?' + r_url[38:],\n",
    "           'DNT' : '1',\n",
    "           'Origin' : url,\n",
    "           'User-Agent': 'Mozilla/5.0 (Windows NT 10.0; Win64; x64) AppleWebKit/537.36 (KHTML, like Gecko) Chrome/58.0.3029.110 Safari/537.36'}\n",
    "session.headers.update(headers)\n"
   ]
  },
  {
   "cell_type": "code",
   "execution_count": 93,
   "metadata": {
    "collapsed": false
   },
   "outputs": [
    {
     "data": {
      "text/plain": [
       "<RequestsCookieJar[]>"
      ]
     },
     "execution_count": 93,
     "metadata": {},
     "output_type": "execute_result"
    }
   ],
   "source": [
    "response.cookies"
   ]
  },
  {
   "cell_type": "code",
   "execution_count": 94,
   "metadata": {
    "collapsed": false
   },
   "outputs": [],
   "source": [
    "abc = requests.cookies.cookiejar_from_dict(Cookies, cookiejar=None, overwrite=True)"
   ]
  },
  {
   "cell_type": "code",
   "execution_count": null,
   "metadata": {
    "collapsed": true
   },
   "outputs": [],
   "source": [
    "http://210.77.16.21/eportal/index.jsp?wlanuserip=0bc386d9e643d188b011a0d00c9b5c40&wlanacname=5fcbc245a7ffdfa4&ssid=&nasip=2c0716b583c8ac3cbd7567a84cfde5a8&mac=53ba540bde596b811a6d5617a86fa028&t=wireless-v2&url=2c0328164651e2b4f13b933ddf36628bea622dedcc302b30"
   ]
  },
  {
   "cell_type": "code",
   "execution_count": null,
   "metadata": {
    "collapsed": true
   },
   "outputs": [],
   "source": [
    "Origin: http://210.77.16.21"
   ]
  },
  {
   "cell_type": "code",
   "execution_count": 95,
   "metadata": {
    "collapsed": false
   },
   "outputs": [],
   "source": [
    "login_url = url + '/eportal/InterFace.do?method=login'\n",
    "login_response = session.post(login_url, data= data_string,cookies = abc)"
   ]
  },
  {
   "cell_type": "code",
   "execution_count": 59,
   "metadata": {
    "collapsed": false
   },
   "outputs": [
    {
     "data": {
      "text/plain": [
       "<Response [200]>"
      ]
     },
     "execution_count": 59,
     "metadata": {},
     "output_type": "execute_result"
    }
   ],
   "source": [
    "login_response\n"
   ]
  },
  {
   "cell_type": "code",
   "execution_count": 96,
   "metadata": {
    "collapsed": false
   },
   "outputs": [
    {
     "data": {
      "text/plain": [
       "'{\"userIndex\":null,\"result\":\"fail\",\"message\":\"æ\\x97\\xa0å\\x8f¯ç\\x94¨å\\x89©ä½\\x99æµ\\x81é\\x87\\x8f!\",\"keepaliveInterval\":0,\"validCodeUrl\":\"\"}'"
      ]
     },
     "execution_count": 96,
     "metadata": {},
     "output_type": "execute_result"
    }
   ],
   "source": [
    "login_response.text"
   ]
  },
  {
   "cell_type": "code",
   "execution_count": 45,
   "metadata": {
    "collapsed": false
   },
   "outputs": [],
   "source": [
    "a = {'abc':''}"
   ]
  },
  {
   "cell_type": "code",
   "execution_count": null,
   "metadata": {
    "collapsed": true
   },
   "outputs": [],
   "source": []
  },
  {
   "cell_type": "code",
   "execution_count": null,
   "metadata": {
    "collapsed": true
   },
   "outputs": [],
   "source": []
  }
 ],
 "metadata": {
  "kernelspec": {
   "display_name": "Python 3",
   "language": "python",
   "name": "python3"
  },
  "language_info": {
   "codemirror_mode": {
    "name": "ipython",
    "version": 3
   },
   "file_extension": ".py",
   "mimetype": "text/x-python",
   "name": "python",
   "nbconvert_exporter": "python",
   "pygments_lexer": "ipython3",
   "version": "3.6.0"
  }
 },
 "nbformat": 4,
 "nbformat_minor": 2
}
